{
 "cells": [
  {
   "cell_type": "code",
   "execution_count": 1,
   "id": "c3eaedc0-2632-4602-b73b-fcbe54ab6527",
   "metadata": {},
   "outputs": [
    {
     "name": "stderr",
     "output_type": "stream",
     "text": [
      "Setting default log level to \"WARN\".\n",
      "To adjust logging level use sc.setLogLevel(newLevel). For SparkR, use setLogLevel(newLevel).\n"
     ]
    },
    {
     "name": "stdout",
     "output_type": "stream",
     "text": [
      "24/02/17 02:49:23 WARN NativeCodeLoader: Unable to load native-hadoop library for your platform... using builtin-java classes where applicable\n",
      "24/02/17 02:49:24 WARN Utils: Service 'SparkUI' could not bind on port 4040. Attempting port 4041.\n"
     ]
    }
   ],
   "source": [
    "import pyspark\n",
    "from pyspark.sql import SparkSession\n",
    "\n",
    "spark = SparkSession.builder \\\n",
    "    .master(\"local[*]\") \\\n",
    "    .appName('test') \\\n",
    "    .getOrCreate()"
   ]
  },
  {
   "cell_type": "code",
   "execution_count": 2,
   "id": "c4f99344-9810-4cb9-8a08-622a8c8ae9d9",
   "metadata": {},
   "outputs": [
    {
     "name": "stderr",
     "output_type": "stream",
     "text": [
      "                                                                                \r"
     ]
    }
   ],
   "source": [
    "df_green = spark.read.parquet('data/pq/green/*/*')"
   ]
  },
  {
   "cell_type": "code",
   "execution_count": 3,
   "id": "01022cc6-7efe-48b2-9c1d-7a0ae5f57e2e",
   "metadata": {},
   "outputs": [],
   "source": [
    "df_green.createOrReplaceTempView('green_data')"
   ]
  },
  {
   "cell_type": "code",
   "execution_count": 17,
   "id": "005713c2-d282-4c37-ac48-fc250e1fbbf3",
   "metadata": {},
   "outputs": [],
   "source": [
    "df_green_revenue = spark.sql(\"\"\"\n",
    "SELECT \n",
    "    -- Reveneue grouping \n",
    "    PULocationID AS zone,\n",
    "    date_trunc('hour', lpep_pickup_datetime) AS hour,  \n",
    "    SUM(total_amount) AS amount,\n",
    "    count(1) as number_records\n",
    "FROM\n",
    "    green_data\n",
    "WHERE \n",
    "    lpep_pickup_datetime >= '2020-01-01 00:00:00'\n",
    "GROUP BY\n",
    "    1, 2\n",
    "\"\"\")"
   ]
  },
  {
   "cell_type": "code",
   "execution_count": 18,
   "id": "1ff96983-0cef-4897-8e37-f0db601331d8",
   "metadata": {},
   "outputs": [
    {
     "name": "stderr",
     "output_type": "stream",
     "text": [
      "                                                                                \r"
     ]
    }
   ],
   "source": [
    "df_green_revenue.coalesce(1).write.parquet('data/report/revenue/green',mode='overwrite')"
   ]
  },
  {
   "cell_type": "code",
   "execution_count": 19,
   "id": "49c114c1-d5dd-42fb-b120-4224bc18556d",
   "metadata": {},
   "outputs": [],
   "source": [
    "df_yellow = spark.read.parquet('data/pq/yellow/*/*')"
   ]
  },
  {
   "cell_type": "code",
   "execution_count": 20,
   "id": "2811dabb-5ae8-4067-b905-aead94b4d98b",
   "metadata": {},
   "outputs": [],
   "source": [
    "df_yellow.createOrReplaceTempView('yellow_data')"
   ]
  },
  {
   "cell_type": "code",
   "execution_count": 21,
   "id": "fa188023-7006-40a3-9556-84ecca35e204",
   "metadata": {},
   "outputs": [],
   "source": [
    "df_yellow_revenue = spark.sql(\"\"\"\n",
    "SELECT \n",
    "    -- Reveneue grouping \n",
    "    PULocationID AS zone,\n",
    "    date_trunc('hour', tpep_pickup_datetime) AS hour,  \n",
    "    SUM(total_amount) AS amount,\n",
    "    count(1) as number_records\n",
    "FROM\n",
    "    yellow_data\n",
    "WHERE \n",
    "    tpep_pickup_datetime >= '2020-01-01 00:00:00'\n",
    "GROUP BY\n",
    "    1, 2\n",
    "\"\"\")"
   ]
  },
  {
   "cell_type": "code",
   "execution_count": 24,
   "id": "dec3a333-6a57-45ef-99a2-846bb926d893",
   "metadata": {},
   "outputs": [
    {
     "name": "stderr",
     "output_type": "stream",
     "text": [
      "                                                                                \r"
     ]
    }
   ],
   "source": [
    "df_yellow_revenue.repartition(20).write.parquet('data/report/revenue/yellow',mode='overwrite')"
   ]
  },
  {
   "cell_type": "code",
   "execution_count": 23,
   "id": "df20bae4-3774-42e0-96c8-12621e48a36e",
   "metadata": {},
   "outputs": [
    {
     "name": "stderr",
     "output_type": "stream",
     "text": [
      "[Stage 32:===================================================>     (9 + 1) / 10]\r"
     ]
    },
    {
     "name": "stdout",
     "output_type": "stream",
     "text": [
      "+----+-------------------+------------------+--------------+\n",
      "|zone|               hour|            amount|number_records|\n",
      "+----+-------------------+------------------+--------------+\n",
      "|   7|2021-01-21 09:00:00| 5096.399999999999|           240|\n",
      "| 263|2021-01-05 13:00:00|29519.280000000035|          2208|\n",
      "| 142|2021-01-05 18:00:00|27924.480000000036|          1752|\n",
      "| 100|2021-01-19 07:00:00|23697.360000000004|          1728|\n",
      "| 116|2021-01-29 10:00:00| 4950.959999999999|           216|\n",
      "| 231|2021-01-29 16:00:00|           17413.2|           816|\n",
      "| 142|2021-01-24 21:00:00| 7836.239999999998|           552|\n",
      "| 249|2021-01-23 06:00:00|3907.6800000000007|           192|\n",
      "| 163|2021-01-12 18:00:00|  49616.6400000001|          3312|\n",
      "|  75|2021-01-03 14:00:00| 9442.319999999989|           888|\n",
      "| 140|2021-01-27 20:00:00|26132.160000000014|          1656|\n",
      "| 151|2021-01-13 18:00:00| 9617.519999999991|           744|\n",
      "| 263|2021-01-17 22:00:00| 9119.759999999995|           600|\n",
      "| 107|2021-01-18 16:00:00|25741.920000000024|          1656|\n",
      "|  48|2021-01-25 21:00:00|10183.919999999993|           672|\n",
      "| 162|2021-01-13 11:00:00|32672.640000000047|          2136|\n",
      "| 238|2021-01-05 10:00:00| 36880.08000000006|          2424|\n",
      "| 141|2021-01-19 21:00:00|15123.839999999986|          1128|\n",
      "| 249|2021-01-12 19:00:00|13831.919999999987|           936|\n",
      "| 142|2021-01-17 09:00:00|14852.879999999986|           960|\n",
      "+----+-------------------+------------------+--------------+\n",
      "only showing top 20 rows\n",
      "\n"
     ]
    },
    {
     "name": "stderr",
     "output_type": "stream",
     "text": [
      "                                                                                \r"
     ]
    }
   ],
   "source": [
    "df_yellow_revenue.show()"
   ]
  },
  {
   "cell_type": "code",
   "execution_count": 25,
   "id": "004fcbe3-7189-4397-8756-beb55a34220a",
   "metadata": {},
   "outputs": [],
   "source": [
    "df_join = df_green_revenue.join(df_yellow_revenue, on=['hour','zone'],how='outer')"
   ]
  },
  {
   "cell_type": "code",
   "execution_count": 26,
   "id": "dcefb115-6a5c-4899-87e4-0be9ae81d754",
   "metadata": {},
   "outputs": [
    {
     "name": "stderr",
     "output_type": "stream",
     "text": [
      "[Stage 42:===================================================>     (9 + 1) / 10]\r"
     ]
    },
    {
     "name": "stdout",
     "output_type": "stream",
     "text": [
      "+-------------------+----+------------------+--------------+--------------------+--------------+\n",
      "|               hour|zone|            amount|number_records|              amount|number_records|\n",
      "+-------------------+----+------------------+--------------+--------------------+--------------+\n",
      "|2021-01-01 10:00:00|   1|              null|          null|   29.75999999999999|            96|\n",
      "|2021-01-05 16:00:00|   1|              null|          null|  2335.1999999999994|            24|\n",
      "|2021-01-09 13:00:00|   1|              null|          null|              3055.2|            24|\n",
      "|2021-01-12 10:00:00|   1|              null|          null|  2047.1999999999998|            24|\n",
      "|2021-01-12 12:00:00|   1|              null|          null|             2312.64|            24|\n",
      "|2021-01-19 06:00:00|   1|              null|          null|  1003.9199999999998|            24|\n",
      "|2021-01-28 14:00:00|   1|              null|          null|  2000.6399999999999|            24|\n",
      "|2021-01-01 01:00:00|   3|              null|          null|  1942.5599999999997|            48|\n",
      "|2021-01-01 16:00:00|   3|              null|          null|-8.88178419700125...|            48|\n",
      "|2021-01-02 00:00:00|   3|              null|          null|  1699.1999999999998|            24|\n",
      "|2021-01-02 20:00:00|   3|1741.1999999999994|            24|                null|          null|\n",
      "|2021-01-03 10:00:00|   3|              null|          null|              727.68|            24|\n",
      "|2021-01-03 19:00:00|   3|1795.4399999999991|            24|                null|          null|\n",
      "|2021-01-03 20:00:00|   3| 572.4000000000002|            24|                null|          null|\n",
      "|2021-01-04 06:00:00|   3|              null|          null|             1336.32|            24|\n",
      "|2021-01-04 08:00:00|   3|              null|          null|  1991.5199999999998|            72|\n",
      "|2021-01-04 12:00:00|   3|              null|          null|              990.96|            24|\n",
      "|2021-01-04 15:00:00|   3|              null|          null|             1085.76|            24|\n",
      "|2021-01-05 06:00:00|   3| 572.4000000000002|            24|              1440.0|            24|\n",
      "|2021-01-05 13:00:00|   3|              null|          null|              620.16|            24|\n",
      "+-------------------+----+------------------+--------------+--------------------+--------------+\n",
      "only showing top 20 rows\n",
      "\n"
     ]
    },
    {
     "name": "stderr",
     "output_type": "stream",
     "text": [
      "                                                                                \r"
     ]
    }
   ],
   "source": [
    "df_join.show()"
   ]
  },
  {
   "cell_type": "code",
   "execution_count": 31,
   "id": "8dec9a0f-e481-48b8-bac8-a2a3cb72724e",
   "metadata": {},
   "outputs": [],
   "source": [
    "df_green_revenue = spark.read.parquet('data/report/revenue/green')\n",
    "df_yellow_revenue = spark.read.parquet('data/report/revenue/yellow')"
   ]
  },
  {
   "cell_type": "code",
   "execution_count": 32,
   "id": "b43503d1-1021-4b98-8452-ee29ea11b0e4",
   "metadata": {},
   "outputs": [],
   "source": [
    "df_green_revenue_tmp = df_green_revenue \\\n",
    "    .withColumnRenamed('amount', 'green_amount') \\\n",
    "    .withColumnRenamed('number_records', 'green_number_records')\n",
    "\n",
    "df_yellow_revenue_tmp = df_yellow_revenue \\\n",
    "    .withColumnRenamed('amount', 'yellow_amount') \\\n",
    "    .withColumnRenamed('number_records', 'yellow_number_records')"
   ]
  },
  {
   "cell_type": "code",
   "execution_count": 33,
   "id": "8d3d95dc-073f-4670-97d3-d4f44fc6f419",
   "metadata": {},
   "outputs": [],
   "source": [
    "df_join = df_green_revenue_tmp.join(df_yellow_revenue_tmp, on=['hour', 'zone'], how='outer')"
   ]
  },
  {
   "cell_type": "code",
   "execution_count": 34,
   "id": "0f0e1262-f59f-4f03-9b4a-6a217f43c60d",
   "metadata": {},
   "outputs": [],
   "source": [
    "df_join.write.parquet('data/report/revenue/total', mode='overwrite')"
   ]
  },
  {
   "cell_type": "code",
   "execution_count": 30,
   "id": "f14a6ea8-43b4-4290-b3fd-f740da7996ee",
   "metadata": {},
   "outputs": [
    {
     "name": "stderr",
     "output_type": "stream",
     "text": [
      "[Stage 52:===================================================>     (9 + 1) / 10]\r"
     ]
    },
    {
     "name": "stdout",
     "output_type": "stream",
     "text": [
      "+-------------------+----+------------------+--------------------+--------------------+---------------------+\n",
      "|               hour|zone|      green_amount|green_number_records|       yellow_amount|yellow_number_records|\n",
      "+-------------------+----+------------------+--------------------+--------------------+---------------------+\n",
      "|2021-01-01 10:00:00|   1|              null|                null|   29.75999999999999|                   96|\n",
      "|2021-01-05 16:00:00|   1|              null|                null|  2335.1999999999994|                   24|\n",
      "|2021-01-09 13:00:00|   1|              null|                null|              3055.2|                   24|\n",
      "|2021-01-12 10:00:00|   1|              null|                null|  2047.1999999999998|                   24|\n",
      "|2021-01-12 12:00:00|   1|              null|                null|             2312.64|                   24|\n",
      "|2021-01-19 06:00:00|   1|              null|                null|  1003.9199999999998|                   24|\n",
      "|2021-01-28 14:00:00|   1|              null|                null|  2000.6399999999999|                   24|\n",
      "|2021-01-01 01:00:00|   3|              null|                null|  1942.5599999999997|                   48|\n",
      "|2021-01-01 16:00:00|   3|              null|                null|-8.88178419700125...|                   48|\n",
      "|2021-01-02 00:00:00|   3|              null|                null|  1699.1999999999998|                   24|\n",
      "|2021-01-02 20:00:00|   3|1741.1999999999994|                  24|                null|                 null|\n",
      "|2021-01-03 10:00:00|   3|              null|                null|              727.68|                   24|\n",
      "|2021-01-03 19:00:00|   3|1795.4399999999991|                  24|                null|                 null|\n",
      "|2021-01-03 20:00:00|   3| 572.4000000000002|                  24|                null|                 null|\n",
      "|2021-01-04 06:00:00|   3|              null|                null|             1336.32|                   24|\n",
      "|2021-01-04 08:00:00|   3|              null|                null|  1991.5199999999998|                   72|\n",
      "|2021-01-04 12:00:00|   3|              null|                null|              990.96|                   24|\n",
      "|2021-01-04 15:00:00|   3|              null|                null|             1085.76|                   24|\n",
      "|2021-01-05 06:00:00|   3| 572.4000000000002|                  24|              1440.0|                   24|\n",
      "|2021-01-05 13:00:00|   3|              null|                null|              620.16|                   24|\n",
      "+-------------------+----+------------------+--------------------+--------------------+---------------------+\n",
      "only showing top 20 rows\n",
      "\n"
     ]
    },
    {
     "name": "stderr",
     "output_type": "stream",
     "text": [
      "                                                                                \r"
     ]
    }
   ],
   "source": [
    "df_join.show()"
   ]
  },
  {
   "cell_type": "code",
   "execution_count": 35,
   "id": "3d421ce6-3abf-4e7b-9c75-6d03d142c1cf",
   "metadata": {},
   "outputs": [
    {
     "name": "stdout",
     "output_type": "stream",
     "text": [
      "--2024-02-17 04:27:40--  https://s3.amazonaws.com/nyc-tlc/misc/taxi+_zone_lookup.csv\n",
      "Resolving s3.amazonaws.com (s3.amazonaws.com)... 52.216.42.80, 52.216.32.120, 52.216.211.168, ...\n",
      "Connecting to s3.amazonaws.com (s3.amazonaws.com)|52.216.42.80|:443... connected.\n",
      "HTTP request sent, awaiting response... 200 OK\n",
      "Length: 12322 (12K) [application/octet-stream]\n",
      "Saving to: ‘taxi+_zone_lookup.csv’\n",
      "\n",
      "taxi+_zone_lookup.c 100%[===================>]  12.03K  --.-KB/s    in 0s      \n",
      "\n",
      "2024-02-17 04:27:41 (60.4 MB/s) - ‘taxi+_zone_lookup.csv’ saved [12322/12322]\n",
      "\n"
     ]
    }
   ],
   "source": [
    "!wget https://s3.amazonaws.com/nyc-tlc/misc/taxi+_zone_lookup.csv"
   ]
  },
  {
   "cell_type": "code",
   "execution_count": 36,
   "id": "ec61dc20-6bd1-431d-9448-a2bd39c49ee3",
   "metadata": {},
   "outputs": [
    {
     "name": "stdout",
     "output_type": "stream",
     "text": [
      "\"LocationID\",\"Borough\",\"Zone\",\"service_zone\"\n",
      "1,\"EWR\",\"Newark Airport\",\"EWR\"\n",
      "2,\"Queens\",\"Jamaica Bay\",\"Boro Zone\"\n",
      "3,\"Bronx\",\"Allerton/Pelham Gardens\",\"Boro Zone\"\n",
      "4,\"Manhattan\",\"Alphabet City\",\"Yellow Zone\"\n",
      "5,\"Staten Island\",\"Arden Heights\",\"Boro Zone\"\n",
      "6,\"Staten Island\",\"Arrochar/Fort Wadsworth\",\"Boro Zone\"\n",
      "7,\"Queens\",\"Astoria\",\"Boro Zone\"\n",
      "8,\"Queens\",\"Astoria Park\",\"Boro Zone\"\n",
      "9,\"Queens\",\"Auburndale\",\"Boro Zone\"\n"
     ]
    }
   ],
   "source": [
    "!head taxi+_zone_lookup.csv"
   ]
  },
  {
   "cell_type": "code",
   "execution_count": 37,
   "id": "06b00cfc-f881-49c0-9bbc-8c525d9ca3ec",
   "metadata": {},
   "outputs": [],
   "source": [
    "df = spark.read \\\n",
    "    .option(\"header\", \"true\") \\\n",
    "    .csv('taxi+_zone_lookup.csv')"
   ]
  },
  {
   "cell_type": "code",
   "execution_count": 38,
   "id": "63fc6f6d-70c0-4680-a614-c8cebd78f19a",
   "metadata": {},
   "outputs": [],
   "source": [
    "df.write.parquet('zones')"
   ]
  },
  {
   "cell_type": "code",
   "execution_count": 39,
   "id": "b3ca999a-c435-4181-88fb-4204172c5b65",
   "metadata": {},
   "outputs": [],
   "source": [
    "df_zones = spark.read.parquet('zones/')"
   ]
  },
  {
   "cell_type": "code",
   "execution_count": 40,
   "id": "ea6e0e6e-4bc5-4568-bb00-b845cc054a5b",
   "metadata": {},
   "outputs": [],
   "source": [
    "df_result = df_join.join(df_zones, df_join.zone == df_zones.LocationID)"
   ]
  },
  {
   "cell_type": "code",
   "execution_count": 41,
   "id": "73cbed47-cec9-4dc1-8879-bcd0379e19c2",
   "metadata": {},
   "outputs": [
    {
     "name": "stderr",
     "output_type": "stream",
     "text": [
      "                                                                                \r"
     ]
    }
   ],
   "source": [
    "df_result.drop('LocationID', 'zone').write.parquet('tmp/revenue-zones')"
   ]
  }
 ],
 "metadata": {
  "kernelspec": {
   "display_name": "Python 3.9 (ipykernel)",
   "language": "python",
   "name": "python3"
  },
  "language_info": {
   "codemirror_mode": {
    "name": "ipython",
    "version": 3
   },
   "file_extension": ".py",
   "mimetype": "text/x-python",
   "name": "python",
   "nbconvert_exporter": "python",
   "pygments_lexer": "ipython3",
   "version": "3.9.18"
  }
 },
 "nbformat": 4,
 "nbformat_minor": 5
}
