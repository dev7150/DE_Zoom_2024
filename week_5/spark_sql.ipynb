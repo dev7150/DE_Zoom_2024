{
 "cells": [
  {
   "cell_type": "code",
   "execution_count": 1,
   "id": "9aa368eb-dcbc-4187-bd64-53f857e69a15",
   "metadata": {},
   "outputs": [
    {
     "name": "stderr",
     "output_type": "stream",
     "text": [
      "Setting default log level to \"WARN\".\n",
      "To adjust logging level use sc.setLogLevel(newLevel). For SparkR, use setLogLevel(newLevel).\n"
     ]
    },
    {
     "name": "stdout",
     "output_type": "stream",
     "text": [
      "24/02/17 02:44:07 WARN NativeCodeLoader: Unable to load native-hadoop library for your platform... using builtin-java classes where applicable\n"
     ]
    }
   ],
   "source": [
    "import pyspark\n",
    "from pyspark.sql import SparkSession\n",
    "\n",
    "spark = SparkSession.builder \\\n",
    "    .master(\"local[*]\") \\\n",
    "    .appName('test') \\\n",
    "    .getOrCreate()"
   ]
  },
  {
   "cell_type": "code",
   "execution_count": 2,
   "id": "cc1675cf-94c8-4145-9b89-ce5e4a8790cb",
   "metadata": {},
   "outputs": [
    {
     "name": "stderr",
     "output_type": "stream",
     "text": [
      "                                                                                \r"
     ]
    }
   ],
   "source": [
    "df_green = spark.read.parquet('data/pq/green/*/*')"
   ]
  },
  {
   "cell_type": "code",
   "execution_count": 3,
   "id": "38b5bdad-368d-4b02-8c23-d03e8c789c2c",
   "metadata": {},
   "outputs": [],
   "source": [
    "df_yellow = spark.read.parquet('data/pq/yellow/*/*')"
   ]
  },
  {
   "cell_type": "code",
   "execution_count": 14,
   "id": "797649fc-4b49-4e8e-aa0d-7eb68f5b8729",
   "metadata": {},
   "outputs": [],
   "source": [
    "df_green = df_green \\\n",
    "    .withColumnRenamed('lpep_pickup_datetime', 'pickup_datetime') \\\n",
    "    .withColumnRenamed('lpep_dropoff_datetime', 'dropoff_datetime')"
   ]
  },
  {
   "cell_type": "code",
   "execution_count": 13,
   "id": "ff6bc51b-af34-4c3b-b633-d0cf8ee20d99",
   "metadata": {},
   "outputs": [],
   "source": [
    "df_yellow = df_yellow \\\n",
    "    .withColumnRenamed('tpep_pickup_datetime', 'pickup_datetime') \\\n",
    "    .withColumnRenamed('tpep_dropoff_datetime', 'dropoff_datetime')"
   ]
  },
  {
   "cell_type": "code",
   "execution_count": 15,
   "id": "151b85e0-b686-41c2-ac9b-ed727d7a95e7",
   "metadata": {},
   "outputs": [
    {
     "data": {
      "text/plain": [
       "{'DOLocationID',\n",
       " 'PULocationID',\n",
       " 'RatecodeID',\n",
       " 'VendorID',\n",
       " 'congestion_surcharge',\n",
       " 'dropoff_datetime',\n",
       " 'extra',\n",
       " 'fare_amount',\n",
       " 'improvement_surcharge',\n",
       " 'mta_tax',\n",
       " 'passenger_count',\n",
       " 'payment_type',\n",
       " 'pickup_datetime',\n",
       " 'store_and_fwd_flag',\n",
       " 'tip_amount',\n",
       " 'tolls_amount',\n",
       " 'total_amount',\n",
       " 'trip_distance'}"
      ]
     },
     "execution_count": 15,
     "metadata": {},
     "output_type": "execute_result"
    }
   ],
   "source": [
    "set(df_yellow.columns) & set (df_green.columns)"
   ]
  },
  {
   "cell_type": "code",
   "execution_count": 16,
   "id": "f651d544-4e16-45c5-b83b-42eb95e09e80",
   "metadata": {},
   "outputs": [
    {
     "data": {
      "text/plain": [
       "['VendorID',\n",
       " 'pickup_datetime',\n",
       " 'dropoff_datetime',\n",
       " 'store_and_fwd_flag',\n",
       " 'RatecodeID',\n",
       " 'PULocationID',\n",
       " 'DOLocationID',\n",
       " 'passenger_count',\n",
       " 'trip_distance',\n",
       " 'fare_amount',\n",
       " 'extra',\n",
       " 'mta_tax',\n",
       " 'tip_amount',\n",
       " 'tolls_amount',\n",
       " 'improvement_surcharge',\n",
       " 'total_amount',\n",
       " 'payment_type',\n",
       " 'congestion_surcharge']"
      ]
     },
     "execution_count": 16,
     "metadata": {},
     "output_type": "execute_result"
    }
   ],
   "source": [
    "# To preserve the order\n",
    "\n",
    "common_columns = []\n",
    "\n",
    "yellow_columns = df_yellow.columns\n",
    "\n",
    "for col in df_green.columns:\n",
    "    if col in yellow_columns:\n",
    "        common_columns.append(col)\n",
    "\n",
    "common_columns"
   ]
  },
  {
   "cell_type": "code",
   "execution_count": 19,
   "id": "415ff852-5040-4c4b-bc16-5057da3b590d",
   "metadata": {},
   "outputs": [],
   "source": [
    "from pyspark.sql import functions as F"
   ]
  },
  {
   "cell_type": "code",
   "execution_count": 22,
   "id": "331e62f5-038c-4dbd-8cb9-a012f7f3022d",
   "metadata": {},
   "outputs": [],
   "source": [
    "df_green_sel = df_green \\\n",
    "    .select(common_columns) \\\n",
    "    .withColumn('service_type', F.lit('green'))"
   ]
  },
  {
   "cell_type": "code",
   "execution_count": 23,
   "id": "813b515d-5c48-456d-8e25-c3a018095425",
   "metadata": {},
   "outputs": [],
   "source": [
    "df_yellow_sel = df_yellow \\\n",
    "    .select(common_columns) \\\n",
    "    .withColumn('service_type', F.lit('yellow'))"
   ]
  },
  {
   "cell_type": "code",
   "execution_count": 24,
   "id": "aa5162f1-8a41-4441-ad7f-94f9dd98c3df",
   "metadata": {},
   "outputs": [],
   "source": [
    "df_trips_data = df_green_sel.unionAll(df_yellow_sel)"
   ]
  },
  {
   "cell_type": "code",
   "execution_count": 25,
   "id": "5f57cf2b-b499-47c1-aad5-3062342cddbf",
   "metadata": {},
   "outputs": [
    {
     "name": "stderr",
     "output_type": "stream",
     "text": [
      "[Stage 3:================================================>        (12 + 2) / 14]\r"
     ]
    },
    {
     "name": "stdout",
     "output_type": "stream",
     "text": [
      "+------------+--------+\n",
      "|service_type|   count|\n",
      "+------------+--------+\n",
      "|       green| 1836432|\n",
      "|      yellow|32874360|\n",
      "+------------+--------+\n",
      "\n"
     ]
    },
    {
     "name": "stderr",
     "output_type": "stream",
     "text": [
      "                                                                                \r"
     ]
    }
   ],
   "source": [
    "df_trips_data.groupby('service_type').count().show()"
   ]
  },
  {
   "cell_type": "code",
   "execution_count": 26,
   "id": "350f7fd4-a299-49ad-aed4-e80bcb0efbb6",
   "metadata": {},
   "outputs": [
    {
     "name": "stderr",
     "output_type": "stream",
     "text": [
      "/home/suzu.sharma/spark/spark-3.3.4-bin-hadoop3/python/pyspark/sql/dataframe.py:229: FutureWarning: Deprecated in 2.0, use createOrReplaceTempView instead.\n",
      "  warnings.warn(\"Deprecated in 2.0, use createOrReplaceTempView instead.\", FutureWarning)\n"
     ]
    }
   ],
   "source": [
    "df_trips_data.registerTempTable('trips_data')"
   ]
  },
  {
   "cell_type": "code",
   "execution_count": 28,
   "id": "7250cabf-ea0b-4e37-9963-628d2a88bd79",
   "metadata": {},
   "outputs": [
    {
     "name": "stderr",
     "output_type": "stream",
     "text": [
      "[Stage 6:====================================================>    (13 + 1) / 14]\r"
     ]
    },
    {
     "name": "stdout",
     "output_type": "stream",
     "text": [
      "+------------+--------+\n",
      "|service_type|count(1)|\n",
      "+------------+--------+\n",
      "|       green| 1836432|\n",
      "|      yellow|32874360|\n",
      "+------------+--------+\n",
      "\n"
     ]
    },
    {
     "name": "stderr",
     "output_type": "stream",
     "text": [
      "                                                                                \r"
     ]
    }
   ],
   "source": [
    "spark.sql(\"\"\"\n",
    "Select service_type, count(1) from trips_data\n",
    "GROUP BY service_type\n",
    "\"\"\").show()"
   ]
  },
  {
   "cell_type": "code",
   "execution_count": 29,
   "id": "0886cf5d-ac84-4cd2-b89b-3c5e9802a2d2",
   "metadata": {},
   "outputs": [],
   "source": [
    "df_result = spark.sql(\"\"\"\n",
    "SELECT \n",
    "    -- Reveneue grouping \n",
    "    PULocationID AS revenue_zone,\n",
    "    date_trunc('month', pickup_datetime) AS revenue_month, \n",
    "    service_type, \n",
    "\n",
    "    -- Revenue calculation \n",
    "    SUM(fare_amount) AS revenue_monthly_fare,\n",
    "    SUM(extra) AS revenue_monthly_extra,\n",
    "    SUM(mta_tax) AS revenue_monthly_mta_tax,\n",
    "    SUM(tip_amount) AS revenue_monthly_tip_amount,\n",
    "    SUM(tolls_amount) AS revenue_monthly_tolls_amount,\n",
    "    SUM(improvement_surcharge) AS revenue_monthly_improvement_surcharge,\n",
    "    SUM(total_amount) AS revenue_monthly_total_amount,\n",
    "    SUM(congestion_surcharge) AS revenue_monthly_congestion_surcharge,\n",
    "\n",
    "    -- Additional calculations\n",
    "    AVG(passenger_count) AS avg_montly_passenger_count,\n",
    "    AVG(trip_distance) AS avg_montly_trip_distance\n",
    "FROM\n",
    "    trips_data\n",
    "GROUP BY\n",
    "    1, 2, 3\n",
    "\"\"\")"
   ]
  },
  {
   "cell_type": "code",
   "execution_count": 30,
   "id": "37f545c5-ea90-47e1-9ba0-9a51be0409d6",
   "metadata": {},
   "outputs": [
    {
     "name": "stderr",
     "output_type": "stream",
     "text": [
      "[Stage 9:====================================================>    (13 + 1) / 14]\r"
     ]
    },
    {
     "name": "stdout",
     "output_type": "stream",
     "text": [
      "+------------+-------------------+------------+--------------------+---------------------+-----------------------+--------------------------+----------------------------+-------------------------------------+----------------------------+------------------------------------+--------------------------+------------------------+\n",
      "|revenue_zone|      revenue_month|service_type|revenue_monthly_fare|revenue_monthly_extra|revenue_monthly_mta_tax|revenue_monthly_tip_amount|revenue_monthly_tolls_amount|revenue_monthly_improvement_surcharge|revenue_monthly_total_amount|revenue_monthly_congestion_surcharge|avg_montly_passenger_count|avg_montly_trip_distance|\n",
      "+------------+-------------------+------------+--------------------+---------------------+-----------------------+--------------------------+----------------------------+-------------------------------------+----------------------------+------------------------------------+--------------------------+------------------------+\n",
      "|         254|2021-01-01 00:00:00|       green|  259065.59999999875|    9185.759999999995|                  360.0|        15219.120000000003|          10108.799999999914|                   2735.9999999999504|          296741.28000000014|                                 0.0|        1.0303030303030303|      6.8015526315789305|\n",
      "|          35|2021-01-01 00:00:00|       green|   363779.7599999927|   14723.759999999987|                  336.0|                  22745.04|           7105.199999999949|                    4075.199999999748|          412764.95999999664|                                 0.0|                       1.0|        132.225281690141|\n",
      "|         225|2021-01-01 00:00:00|       green|   322066.5599999968|   14354.399999999998|                  588.0|        21104.399999999994|           6627.599999999953|                   4103.9999999997435|          368910.95999999595|                                 0.0|        1.2830188679245282|         33.849125874126|\n",
      "|          36|2021-01-01 00:00:00|       green|   99045.36000000044|               3384.0|                  324.0|         5954.399999999998|          3488.1599999999935|                    1108.800000000019|          113304.71999999975|                                 0.0|        1.6206896551724137|       5.680584415584404|\n",
      "|          80|2021-01-01 00:00:00|       green|   78229.20000000003|   2443.2000000000007|                  240.0|         4984.079999999997|          2405.0399999999986|                    856.8000000000096|           89668.31999999999|                               132.0|                       1.1|       6.525798319327728|\n",
      "|         234|2021-01-01 00:00:00|       green|   20649.12000000001|               1188.0|                    0.0|                     726.0|          1762.5600000000009|                   201.59999999999945|          24527.280000000006|                                null|                      null|       9.337142857142856|\n",
      "|          89|2021-01-01 00:00:00|       green|  356112.47999999556|             14952.96|                  456.0|        23041.679999999993|           6773.759999999959|                    4161.599999999735|          405744.47999999765|                                 0.0|        1.3953488372093024|       5.095568965517246|\n",
      "|         252|2021-01-01 00:00:00|       green|  25840.319999999992|                708.0|                   36.0|                    1848.0|           881.2800000000004|                   273.59999999999883|          29587.200000000004|                                 0.0|                       2.0|      7.6363157894736835|\n",
      "|         235|2021-01-01 00:00:00|       green|   263432.8799999958|    11290.79999999999|                  756.0|        13079.519999999997|          12127.439999999899|                    2851.199999999933|          303603.84000000136|                                66.0|        1.1857142857142857|       7.359444444444448|\n",
      "|         113|2021-01-01 00:00:00|       green|  10127.039999999999|    626.3999999999999|                   12.0|                     330.0|           440.6400000000002|                   100.80000000000011|          11636.880000000003|                                 0.0|                       1.0|       7.629999999999997|\n",
      "|          55|2021-01-01 00:00:00|       green|  408679.67999999755|    9445.199999999997|                 1416.0|         16591.19999999999|          10115.759999999904|                    3074.399999999899|          449706.24000000156|                               198.0|        1.2966101694915255|      189.41395784543352|\n",
      "|         150|2021-01-01 00:00:00|       green|  42832.560000000034|   1664.3999999999999|                   96.0|        2710.5600000000004|          1175.0400000000006|                   439.19999999999845|          49157.759999999864|                                 0.0|                       1.0|       7.362131147540966|\n",
      "|         193|2021-01-01 00:00:00|       green|   86658.72000000045|               2784.0|                 1212.0|          9648.96000000001|          1028.1600000000005|                   1692.0000000000412|          104409.83999999917|                              1386.0|        1.2077922077922079|       2.265899705014751|\n",
      "|          52|2021-01-01 00:00:00|       green|  158170.55999999997|               4242.0|                 6060.0|         21450.95999999995|           734.4000000000004|                    3967.199999999764|          197905.92000000426|                              2904.0|        1.1637080867850098|       2.725207956600372|\n",
      "|         259|2021-01-01 00:00:00|       green|  112788.24000000022|               4988.4|                   84.0|                    5184.0|           6731.279999999975|                   1116.0000000000193|          130891.91999999969|                                 0.0|                       1.0|       8.066838709677423|\n",
      "|         174|2021-01-01 00:00:00|       green|  258582.95999999708|   11511.359999999997|                  624.0|        12668.159999999996|          11576.159999999907|                   2829.5999999999362|           297924.2399999991|                               132.0|        1.1166666666666667|      330.01744303797517|\n",
      "|         236|2021-01-01 00:00:00|       green|            78472.32|               3474.0|                 1632.0|         8738.880000000006|          3794.6399999999962|                   1375.2000000000291|          103361.03999999937|                              6534.0|        1.2949640287769784|       4.527591623036651|\n",
      "|         208|2021-01-01 00:00:00|       green|  119404.79999999957|               5064.0|                  108.0|         7990.800000000003|            5636.39999999998|                   1447.2000000000319|          139651.19999999934|                                 0.0|                       1.2|       5.712686567164189|\n",
      "|         179|2021-01-01 00:00:00|       green|  127982.88000000104|              4617.36|                 1020.0|         9929.760000000002|           4461.359999999986|                   1785.6000000000447|          150984.95999999944|                               726.0|        1.3707865168539326|       4.703991935483885|\n",
      "|         108|2021-01-01 00:00:00|       green|  142305.83999999973|               3690.0|                  552.0|                    5682.0|           6572.639999999959|                   1152.0000000000207|          159954.47999999954|                                 0.0|        1.0851063829787233|      11.094375000000015|\n",
      "+------------+-------------------+------------+--------------------+---------------------+-----------------------+--------------------------+----------------------------+-------------------------------------+----------------------------+------------------------------------+--------------------------+------------------------+\n",
      "only showing top 20 rows\n",
      "\n"
     ]
    },
    {
     "name": "stderr",
     "output_type": "stream",
     "text": [
      "                                                                                \r"
     ]
    }
   ],
   "source": [
    "df_result.show()"
   ]
  },
  {
   "cell_type": "code",
   "execution_count": 31,
   "id": "7b5ebf20-97ba-404f-9bda-ef0b65a4db68",
   "metadata": {},
   "outputs": [
    {
     "name": "stderr",
     "output_type": "stream",
     "text": [
      "                                                                                \r"
     ]
    }
   ],
   "source": [
    "# reduce to 1 file using coalesce\n",
    "df_result.coalesce(1).write.parquet('data/report/revenue/', mode='overwrite')"
   ]
  }
 ],
 "metadata": {
  "kernelspec": {
   "display_name": "Python 3 (ipykernel)",
   "language": "python",
   "name": "python3"
  },
  "language_info": {
   "codemirror_mode": {
    "name": "ipython",
    "version": 3
   },
   "file_extension": ".py",
   "mimetype": "text/x-python",
   "name": "python",
   "nbconvert_exporter": "python",
   "pygments_lexer": "ipython3",
   "version": "3.11.5"
  }
 },
 "nbformat": 4,
 "nbformat_minor": 5
}
